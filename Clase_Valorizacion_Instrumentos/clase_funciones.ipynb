# %% [markdown]
# # Clase #2 - Funciones y Módulos
# **Diploma de Extensión en Python, DCC - U. de Chile**  
# *Por Francisco J. Gutiérrez*

# %% [markdown]
# ## 1. Problema Inicial: Área de un Anillo
# Calcular el área entre dos círculos de radios **interior** y **exterior**.
# 
# $$
# \text{Área anillo} = \pi R_{\text{ext}}^2 - \pi R_{\text{int}}^2
# $$

# %%
# Solución básica
interior = float(input("Radio interior? "))
exterior = float(input("Radio exterior? "))
area_anillo = 3.14 * (exterior**2 - interior**2)
print(f"Área anillo = {area_anillo}")

# %% [markdown]
# ---
# 
# ## 2. ¿Por qué usar funciones?
# - **Redundancia**: Evitar repetir código  
# - **Modularidad**: Encapsular lógica reusable

# %%
# Función para calcular área de círculo
def area_circulo(radio):
    return 3.14 * radio ** 2

# Ejemplo de uso
print("Área círculo radio 5:", area_circulo(5))
print("Área anillo (radios 5 y 10):", area_circulo(10) - area_circulo(5))

# %% [markdown]
# ---
# 
# ## 3. Estructura de una Función
# ```python
# def nombre(parámetros):
#     # Bloque indentado
#     return resultado
# ```
# 
# **Reglas clave**:  
# 1. `def` inicia la definición  
# 2. Parámetros pueden ser cero o más  
# 3. `return` finaliza la ejecución

# %%
# Ejemplo: Función sin parámetros
def saludo():
    return "Hola Mundo"

print(saludo())

# %% [markdown]
# ---
# 
# ## 4. Receta de Diseño de Funciones
# 1. **Propósito**: ¿Qué hace la función?  
# 2. **Ejemplos de uso**  
# 3. **Tests** (`assert`)  
# 4. **Cuerpo**

# %%
# Ejemplo: Área de rectángulo
def area_rect(largo, ancho):
    """Calcula el área de un rectángulo (entero x entero)"""
    return largo * ancho

# Tests
assert area_rect(3, 4) == 12, "Error en 3x4"
assert area_rect(0, 5) == 0, "Error en caso cero"

# %% [markdown]
# ---
# 
# ## 5. Función de Herón para Triángulos
# **Fórmula**:
# $$
# A = \sqrt{S(S - a)(S - b)(S - c)}, \quad S = \frac{a + b + c}{2}
# $$

# %%
def heron(a, b, c):
    s = (a + b + c) / 2
    return (s * (s - a) * (s - b) * (s - c)) ** 0.5

# Pruebas
print("Triángulo 3-4-5 (Área = 6):", heron(3, 4, 5))
print("Triángulo equilátero 5-5-5 (~10.83):", round(heron(5, 5, 5), 2))

# %% [markdown]
# ---
# 
# ## 6. Módulos en Python
# **Ejemplo: módulo `geometria.py`**

# %%
# %%writefile geometria.py
# (Esta celda crea un archivo .py)
import math

def perimetro(*lados):
    return sum(lados)

def area_triangulo(a, b, c):
    s = perimetro(a, b, c) / 2
    return math.sqrt(s * (s - a) * (s - b) * (s - c))

# %%
# Importar módulo
import geometria

print("Perímetro triángulo 3-4-5:", geometria.perimetro(3, 4, 5))
print("Área triángulo 3-4-5:", geometria.area_triangulo(3, 4, 5))

# %% [markdown]
# ---
# 
# ## 7. Funciones Matemáticas (`math`)
# | Función          | Descripción          |
# |------------------|----------------------|
# | `math.sqrt(x)`   | Raíz cuadrada        |
# | `math.pow(x, y)` | Potencia ($x^y$)     |

# %%
import math

# Ejemplos
print("Raíz de 25:", math.sqrt(25))
print("2^5:", math.pow(2, 5))
print("Seno de 90°:", math.sin(math.pi/2))

# %% [markdown]
# ---
# 
# ## 8. Valores Aleatorios (`random`)

# %%
import random

# Lanzar un dado 5 veces
for _ in range(5):
    print("Dado:", random.randint(1, 6))

# %% [markdown]
# ---
# 
# ## 9. Caso de Estudio: Cine
# **Fórmulas**:  
# - Espectadores = $120 + \frac{5000 - \text{precio}}{500} \times 15$  
# - Ganancias = Ingresos - Gastos

# %%
def calcular_espectadores(precio):
    return 120 + (5000 - precio) * 15 / 500

def calcular_ganancias(precio):
    espectadores = calcular_espectadores(precio)
    ingresos = espectadores * precio
    gastos = 180000 + 40 * espectadores
    return ingresos - gastos

# Simulación
precios = [4000, 4500, 3000]
for p in precios:
    print(f"Precio ${p}: Ganancias = ${calcular_ganancias(p):.2f}")

# %% [markdown]
# ---
# 
# # ¡Fin de la Clase!  
# **Próximo tema**: Listas y diccionarios